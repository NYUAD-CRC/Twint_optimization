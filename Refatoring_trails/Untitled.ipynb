{
 "cells": [
  {
   "cell_type": "code",
   "execution_count": 1,
   "id": "19bc77e4",
   "metadata": {},
   "outputs": [
    {
     "ename": "TypeError",
     "evalue": "'Config' object is not iterable",
     "output_type": "error",
     "traceback": [
      "\u001b[0;31m---------------------------------------------------------------------------\u001b[0m",
      "\u001b[0;31mTypeError\u001b[0m                                 Traceback (most recent call last)",
      "Input \u001b[0;32mIn [1]\u001b[0m, in \u001b[0;36m<cell line: 40>\u001b[0;34m()\u001b[0m\n\u001b[1;32m     47\u001b[0m \u001b[38;5;66;03m#p1 = multiprocessing.Process(target=search_twint, args=(config, ))\u001b[39;00m\n\u001b[1;32m     48\u001b[0m p \u001b[38;5;241m=\u001b[39m Pool(processes\u001b[38;5;241m=\u001b[39m\u001b[38;5;241m1\u001b[39m)\n\u001b[0;32m---> 49\u001b[0m data \u001b[38;5;241m=\u001b[39m \u001b[43mp\u001b[49m\u001b[38;5;241;43m.\u001b[39;49m\u001b[43mmap\u001b[49m\u001b[43m(\u001b[49m\u001b[43msearch_twint\u001b[49m\u001b[43m,\u001b[49m\u001b[43mconfig_2\u001b[49m\u001b[43m)\u001b[49m\n\u001b[1;32m     50\u001b[0m p\u001b[38;5;241m.\u001b[39mclose()\n\u001b[1;32m     51\u001b[0m \u001b[38;5;28mprint\u001b[39m(\u001b[38;5;124m\"\u001b[39m\u001b[38;5;124mDone\u001b[39m\u001b[38;5;124m\"\u001b[39m)\n",
      "File \u001b[0;32m/scratch/ms13779/conda-envs/twitter/lib/python3.8/multiprocessing/pool.py:364\u001b[0m, in \u001b[0;36mPool.map\u001b[0;34m(self, func, iterable, chunksize)\u001b[0m\n\u001b[1;32m    359\u001b[0m \u001b[38;5;28;01mdef\u001b[39;00m \u001b[38;5;21mmap\u001b[39m(\u001b[38;5;28mself\u001b[39m, func, iterable, chunksize\u001b[38;5;241m=\u001b[39m\u001b[38;5;28;01mNone\u001b[39;00m):\n\u001b[1;32m    360\u001b[0m     \u001b[38;5;124;03m'''\u001b[39;00m\n\u001b[1;32m    361\u001b[0m \u001b[38;5;124;03m    Apply `func` to each element in `iterable`, collecting the results\u001b[39;00m\n\u001b[1;32m    362\u001b[0m \u001b[38;5;124;03m    in a list that is returned.\u001b[39;00m\n\u001b[1;32m    363\u001b[0m \u001b[38;5;124;03m    '''\u001b[39;00m\n\u001b[0;32m--> 364\u001b[0m     \u001b[38;5;28;01mreturn\u001b[39;00m \u001b[38;5;28;43mself\u001b[39;49m\u001b[38;5;241;43m.\u001b[39;49m\u001b[43m_map_async\u001b[49m\u001b[43m(\u001b[49m\u001b[43mfunc\u001b[49m\u001b[43m,\u001b[49m\u001b[43m \u001b[49m\u001b[43miterable\u001b[49m\u001b[43m,\u001b[49m\u001b[43m \u001b[49m\u001b[43mmapstar\u001b[49m\u001b[43m,\u001b[49m\u001b[43m \u001b[49m\u001b[43mchunksize\u001b[49m\u001b[43m)\u001b[49m\u001b[38;5;241m.\u001b[39mget()\n",
      "File \u001b[0;32m/scratch/ms13779/conda-envs/twitter/lib/python3.8/multiprocessing/pool.py:475\u001b[0m, in \u001b[0;36mPool._map_async\u001b[0;34m(self, func, iterable, mapper, chunksize, callback, error_callback)\u001b[0m\n\u001b[1;32m    473\u001b[0m \u001b[38;5;28mself\u001b[39m\u001b[38;5;241m.\u001b[39m_check_running()\n\u001b[1;32m    474\u001b[0m \u001b[38;5;28;01mif\u001b[39;00m \u001b[38;5;129;01mnot\u001b[39;00m \u001b[38;5;28mhasattr\u001b[39m(iterable, \u001b[38;5;124m'\u001b[39m\u001b[38;5;124m__len__\u001b[39m\u001b[38;5;124m'\u001b[39m):\n\u001b[0;32m--> 475\u001b[0m     iterable \u001b[38;5;241m=\u001b[39m \u001b[38;5;28;43mlist\u001b[39;49m\u001b[43m(\u001b[49m\u001b[43miterable\u001b[49m\u001b[43m)\u001b[49m\n\u001b[1;32m    477\u001b[0m \u001b[38;5;28;01mif\u001b[39;00m chunksize \u001b[38;5;129;01mis\u001b[39;00m \u001b[38;5;28;01mNone\u001b[39;00m:\n\u001b[1;32m    478\u001b[0m     chunksize, extra \u001b[38;5;241m=\u001b[39m \u001b[38;5;28mdivmod\u001b[39m(\u001b[38;5;28mlen\u001b[39m(iterable), \u001b[38;5;28mlen\u001b[39m(\u001b[38;5;28mself\u001b[39m\u001b[38;5;241m.\u001b[39m_pool) \u001b[38;5;241m*\u001b[39m \u001b[38;5;241m4\u001b[39m)\n",
      "\u001b[0;31mTypeError\u001b[0m: 'Config' object is not iterable"
     ]
    }
   ],
   "source": [
    "# Import Libraries\n",
    "import twint\n",
    "import nest_asyncio\n",
    "nest_asyncio.apply()\n",
    "import time\n",
    "import pandas as pd\n",
    "import os\n",
    "import re\n",
    "import multiprocessing\n",
    "from multiprocessing import Pool\n",
    "\n",
    "#from concurrent.futures import ThreadPoolExecutor, as_completed\n",
    "t1=time.time()\n",
    "# Function to run the search\n",
    "def search_twint(c):\n",
    "    twint.run.Search(c)\n",
    "    return twint.storage.panda.Tweets_df\n",
    "\n",
    "# configuration\n",
    "def configure_twint(start_date, end_date, search_term):\n",
    "    c = twint.Config() \n",
    "    c.Until = end_date\n",
    "    c.Since = start_date\n",
    "    c.Lang = \"en\"        # Language\n",
    "    c.Pandas = True\n",
    "    c.Store_csv = True\n",
    "    c.Search = search_term  # key words to look for.\n",
    "    return c\n",
    "\n",
    "# configuration\n",
    "def configure_twint_2(limit, search_term):\n",
    "    c = twint.Config() \n",
    "    c.Limit = limit\n",
    "    c.Lang = \"en\"        # Language\n",
    "    c.Pandas = True\n",
    "    c.Store_csv = True\n",
    "    c.Search = search_term  # key words to look for.\n",
    "    return c\n",
    "\n",
    "if __name__ == '__main__':\n",
    "    #start_date = \"2022-12-31 01:30:00\"\n",
    "    #end_date = \"2022-12-31 23:59:59\"\n",
    "    limit=20\n",
    "    search_term = \"climate change\"\n",
    "    #config = configure_twint(start_date, end_date, search_term)\n",
    "    config_2=configure_twint_2(limit,search_term)\n",
    "    #p1 = multiprocessing.Process(target=search_twint, args=(config, ))\n",
    "    p = Pool(processes=1)\n",
    "    data = p.map(search_twint,config_2)\n",
    "    p.close()\n",
    "    print(\"Done\")\n",
    "    print(data)\n",
    "    #p1 = multiprocessing.Process(target=search_twint, args=(config_2, ))\n",
    "    #p1.start()\n",
    "    #p1.join()\n",
    "    #print(\"Done\")\n",
    "    #print(twint.storage.panda.Tweets_df)"
   ]
  },
  {
   "cell_type": "code",
   "execution_count": null,
   "id": "d8c96ec2",
   "metadata": {},
   "outputs": [],
   "source": []
  }
 ],
 "metadata": {
  "kernelspec": {
   "display_name": "twitter",
   "language": "python",
   "name": "twitter"
  },
  "language_info": {
   "codemirror_mode": {
    "name": "ipython",
    "version": 3
   },
   "file_extension": ".py",
   "mimetype": "text/x-python",
   "name": "python",
   "nbconvert_exporter": "python",
   "pygments_lexer": "ipython3",
   "version": "3.8.15"
  }
 },
 "nbformat": 4,
 "nbformat_minor": 5
}
