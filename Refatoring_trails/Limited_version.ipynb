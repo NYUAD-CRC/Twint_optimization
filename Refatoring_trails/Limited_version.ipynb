{
 "cells": [
  {
   "cell_type": "code",
   "execution_count": 15,
   "id": "5ed5a30e",
   "metadata": {},
   "outputs": [
    {
     "name": "stdout",
     "output_type": "stream",
     "text": [
      "1615964700902293506 2023-01-19 10:49:42 +0400 <willowashmaple> @Hilary_W TIL women do not breathe air (no lung capacity); the good news is that without lung capacity they do not emit carbon dioxide, so they do not contribute to climate change.\n",
      "1615964692111065088 2023-01-19 10:49:40 +0400 <treevolution> Our @treevolution newsletter, 🟢 Shareholder Activists, is out now!  In this week's newsletter: 🪙 Q&amp;A - Shareholder activism for climate change ♻️ Zibo says yes to recycling 🍲 Something to snack on  Click here:  https://t.co/kw2a2FrZN2\n",
      "1615964691645489153 2023-01-19 10:49:40 +0400 <ProudPolitical> @GuruGuss @tomselliott @algore Climate change is a very real problem.\n",
      "1615964683982233602 2023-01-19 10:49:38 +0400 <RonnieAAmanya1> In all the things you do, have the plan and courage to press on. It's never a bed of roses, life is full of hurdles but meant to be lived to the fullest.\n",
      "1615964658611130369 2023-01-19 10:49:32 +0400 <CrankeyMonkey> @QualityTweets78 Televangelist of Climate Change theocracy.\n",
      "1615964649198960640 2023-01-19 10:49:30 +0400 <FriggEco> Why #GreenBonds could save the earth and help to fight against #climatechange - have a look! ➡️  https://t.co/kVImk9Vr3u  #blockchain #renewableenergy #Ethereum  https://t.co/iLziwshA52\n",
      "1615964647458496513 2023-01-19 10:49:29 +0400 <SidehillGrumpy> @CodeRedEarth Actually, Chaos Theory includes the charming possibility for our Chaotic Climate to suddenly 'tunnel' from a Hot Climate to a Cold Climate, without any noticeable transition.  Think of it as a Climate Change equivalent of H2O changing from a gas directly to a solid (Hoarfrost)\n",
      "1615964632748810241 2023-01-19 10:49:26 +0400 <kulajava> @PeterSweden7 I am not \"anti-vax\". Then you’re not joining the dots ... we now have sudden adult death - what do you think caused SIDS for all those years? Climate change???\n",
      "1615964616210907136 2023-01-19 10:49:22 +0400 <RWMaxey> Oops I accidentally let myself get extremely mad about climate change instead of the normal baseline very mad I am about it at most other times\n",
      "1615964594324865026 2023-01-19 10:49:17 +0400 <Kvothe72> @benshapiro I'm sorry that guys like you still don't understand how important it is to do something about climate change.\n",
      "1615964565195440129 2023-01-19 10:49:10 +0400 <AndyPhalanx30> #ClimateScam #GreenTyranny  Climate change: What's in a word?  https://t.co/eDqp8BvJBh\n",
      "1615964547034275841 2023-01-19 10:49:05 +0400 <JamesArte9> Damn Climate Change, just keeps refusing to change . . . the climate.\n",
      "1615964496417427458 2023-01-19 10:48:53 +0400 <shakilakakakhel> A part of 'climate change'.\n",
      "1615964448157753344 2023-01-19 10:48:42 +0400 <emeowtions> @adoseofmars yikesss i have scorpio in 2nd house w pluto!!\n",
      "1615964440851005440 2023-01-19 10:48:40 +0400 <Furcifervindice> @MikeHudema May as well run out in the middle of the street and cut your own throat for all the good any of this bullshit is going to do.  The \"climate\" WILL CHANGE.  PERIOD.  If you're afraid of living on the coast, then MOVE.  Earth is OVERDUE for a tropical phase.\n",
      "1615964435864244224 2023-01-19 10:48:39 +0400 <IndiaWaterFoun1> #ClimateChange #DisasterRiskReduction #EcosystemRestoration #Environment #Flood #GDP @PMO_NaMo @narendramodi @gssjodhpur @byadavbjp @g20org @NITIAayog @AMishra_NITI @nitin_gadkari @UNESCAP @UNEP @drarvindkumar1 @sshwetatyagi @UNECOSOC @GYBN_CBD @IUCN_ecosystem @gaspworld\n",
      "1615964421523705856 2023-01-19 10:48:35 +0400 <OlalekeSteven> The Nigerian government needs to start focusing on climate change issues and pollution. The pollution in big cities is going out of hand, Ibadan is a typical example.\n",
      "1615964408999706625 2023-01-19 10:48:32 +0400 <mikeluatuaT> Look how fake they filming her pretending that the authorities are arresting her . Climate change fake ass mother fuckers ..\n",
      "1615964406588018689 2023-01-19 10:48:32 +0400 <zara_p> In fact when we are talking about Loss and Damage financing (payments to countries to help them recover from disasters caused by climate change) - shouldn't it be these companies who should be paying?\n",
      "1615964345938092032 2023-01-19 10:48:17 +0400 <JayHawk_02> I’m relieved this isn’t a before/after climate change gif  For once\n",
      "Done\n"
     ]
    }
   ],
   "source": [
    "# Import Libraries\n",
    "import twint\n",
    "import nest_asyncio\n",
    "nest_asyncio.apply()\n",
    "import time\n",
    "import pandas as pd\n",
    "import os\n",
    "import re\n",
    "import multiprocessing\n",
    "\n",
    "os.remove(\"tweets_test.csv\")\n",
    "\n",
    "#from concurrent.futures import ThreadPoolExecutor, as_completed\n",
    "t1=time.time()\n",
    "# Function to run the search\n",
    "def search_twint(c):\n",
    "    twint.run.Search(c)\n",
    "    return twint.storage.panda.Tweets_df\n",
    "\n",
    "# configuration\n",
    "def configure_twint(start_date, end_date, search_term):\n",
    "    c = twint.Config() \n",
    "    c.Until = end_date\n",
    "    c.Since = start_date\n",
    "    c.Lang = \"en\"        # Language\n",
    "    c.Pandas = True\n",
    "    c.Store_csv = True\n",
    "    c.Search = search_term  # key words to look for.\n",
    "    return c\n",
    "\n",
    "# configuration\n",
    "def configure_twint_2(limit, search_term):\n",
    "    c = twint.Config() \n",
    "    c.Limit = limit\n",
    "    c.Lang = \"en\"        # Language\n",
    "    c.Pandas = True\n",
    "    c.Store_csv = True\n",
    "    c.Search = search_term  # key words to look for.\n",
    "    c.Output = \"tweets_test.csv\"\n",
    "    return c\n",
    "\n",
    "if __name__ == '__main__':\n",
    "    #start_date = \"2022-12-31 01:30:00\"\n",
    "    #end_date = \"2022-12-31 23:59:59\"\n",
    "    limit=20\n",
    "    search_term = \"climate change\"\n",
    "    #config = configure_twint(start_date, end_date, search_term)\n",
    "    config_2=configure_twint_2(limit,search_term)\n",
    "    #p1 = multiprocessing.Process(target=search_twint, args=(config, ))\n",
    "    p1 = multiprocessing.Process(target=search_twint, args=(config_2, ))\n",
    "    p1.start()\n",
    "    p1.join()\n",
    "    print(\"Done\")"
   ]
  },
  {
   "cell_type": "code",
   "execution_count": 12,
   "id": "e861e090",
   "metadata": {},
   "outputs": [
    {
     "name": "stdout",
     "output_type": "stream",
     "text": [
      "Today's date: 2023-01-19\n"
     ]
    }
   ],
   "source": [
    "from datetime import date\n",
    "\n",
    "today = date.today()\n",
    "print(\"Today's date:\", today)"
   ]
  },
  {
   "cell_type": "code",
   "execution_count": null,
   "id": "ef42b513",
   "metadata": {},
   "outputs": [],
   "source": []
  }
 ],
 "metadata": {
  "kernelspec": {
   "display_name": "twitter",
   "language": "python",
   "name": "twitter"
  },
  "language_info": {
   "codemirror_mode": {
    "name": "ipython",
    "version": 3
   },
   "file_extension": ".py",
   "mimetype": "text/x-python",
   "name": "python",
   "nbconvert_exporter": "python",
   "pygments_lexer": "ipython3",
   "version": "3.8.15"
  }
 },
 "nbformat": 4,
 "nbformat_minor": 5
}
