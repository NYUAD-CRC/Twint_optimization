{
 "cells": [
  {
   "cell_type": "code",
   "execution_count": 4,
   "id": "5872cd19",
   "metadata": {},
   "outputs": [
    {
     "name": "stdout",
     "output_type": "stream",
     "text": [
      "[0, 2, 4, 6, 8, 10, 12, 14, 16, 18, 20, 22, 24, 26, 28, 30, 32, 34, 36, 38]\n"
     ]
    }
   ],
   "source": [
    "from multiprocessing import Pool\n",
    "def job(num):\n",
    "    return num * 2\n",
    "if __name__ == '__main__':\n",
    "    p = Pool(processes=20)\n",
    "    data = p.map(job, [i for i in range(20)])\n",
    "    p.close()\n",
    "    print(data)"
   ]
  },
  {
   "cell_type": "code",
   "execution_count": 6,
   "id": "86a9d19a",
   "metadata": {},
   "outputs": [
    {
     "name": "stdout",
     "output_type": "stream",
     "text": [
      "0 represent!\n",
      "1 represent!\n",
      "2 represent!\n",
      "3 represent!\n",
      "4 represent!\n",
      "[0, 1, 2, 3, 4]\n"
     ]
    }
   ],
   "source": [
    "import multiprocessing\n",
    "\n",
    "\n",
    "def worker(procnum, return_dict):\n",
    "    \"\"\"worker function\"\"\"\n",
    "    print(str(procnum) + \" represent!\")\n",
    "    return_dict[procnum] = procnum\n",
    "\n",
    "\n",
    "if __name__ == \"__main__\":\n",
    "    manager = multiprocessing.Manager()\n",
    "    return_dict = manager.dict()\n",
    "    jobs = []\n",
    "    for i in range(5):\n",
    "        p = multiprocessing.Process(target=worker, args=(i, return_dict))\n",
    "        jobs.append(p)\n",
    "        p.start()\n",
    "\n",
    "    for proc in jobs:\n",
    "        proc.join()\n",
    "    print(return_dict.values())"
   ]
  },
  {
   "cell_type": "code",
   "execution_count": 7,
   "id": "fa6eb24a",
   "metadata": {},
   "outputs": [
    {
     "ename": "ModuleNotFoundError",
     "evalue": "No module named 'pandas'",
     "output_type": "error",
     "traceback": [
      "\u001b[0;31m---------------------------------------------------------------------------\u001b[0m",
      "\u001b[0;31mModuleNotFoundError\u001b[0m                       Traceback (most recent call last)",
      "Input \u001b[0;32mIn [7]\u001b[0m, in \u001b[0;36m<cell line: 6>\u001b[0;34m()\u001b[0m\n\u001b[1;32m      4\u001b[0m nest_asyncio\u001b[38;5;241m.\u001b[39mapply()\n\u001b[1;32m      5\u001b[0m \u001b[38;5;28;01mimport\u001b[39;00m \u001b[38;5;21;01mtime\u001b[39;00m\n\u001b[0;32m----> 6\u001b[0m \u001b[38;5;28;01mimport\u001b[39;00m \u001b[38;5;21;01mpandas\u001b[39;00m \u001b[38;5;28;01mas\u001b[39;00m \u001b[38;5;21;01mpd\u001b[39;00m\n\u001b[1;32m      7\u001b[0m \u001b[38;5;28;01mimport\u001b[39;00m \u001b[38;5;21;01mos\u001b[39;00m\n\u001b[1;32m      8\u001b[0m \u001b[38;5;28;01mimport\u001b[39;00m \u001b[38;5;21;01mre\u001b[39;00m\n",
      "\u001b[0;31mModuleNotFoundError\u001b[0m: No module named 'pandas'"
     ]
    }
   ],
   "source": [
    "# Import Libraries\n",
    "import twint\n",
    "import nest_asyncio\n",
    "nest_asyncio.apply()\n",
    "import time\n",
    "import pandas as pd\n",
    "import os\n",
    "import re\n",
    "import multiprocessing\n",
    "from multiprocessing import Pool\n",
    "\n",
    "#from concurrent.futures import ThreadPoolExecutor, as_completed\n",
    "t1=time.time()\n",
    "# Function to run the search\n",
    "def search_twint(c):\n",
    "    twint.run.Search(c)\n",
    "    return twint.storage.panda.Tweets_df\n",
    "\n",
    "# configuration\n",
    "def configure_twint(start_date, end_date, search_term):\n",
    "    c = twint.Config() \n",
    "    c.Until = end_date\n",
    "    c.Since = start_date\n",
    "    c.Lang = \"en\"        # Language\n",
    "    c.Pandas = True\n",
    "    c.Store_csv = True\n",
    "    c.Search = search_term  # key words to look for.\n",
    "    return c\n",
    "\n",
    "# configuration\n",
    "def configure_twint_2(limit, search_term):\n",
    "    c = twint.Config() \n",
    "    c.Limit = limit\n",
    "    c.Lang = \"en\"        # Language\n",
    "    c.Pandas = True\n",
    "    c.Store_csv = True\n",
    "    c.Search = search_term  # key words to look for.\n",
    "    return c\n",
    "\n",
    "if __name__ == '__main__':\n",
    "    #start_date = \"2022-12-31 01:30:00\"\n",
    "    #end_date = \"2022-12-31 23:59:59\"\n",
    "    limit=20\n",
    "    search_term = \"climate change\"\n",
    "    #config = configure_twint(start_date, end_date, search_term)\n",
    "    config_2=configure_twint_2(limit,search_term)\n",
    "    #p1 = multiprocessing.Process(target=search_twint, args=(config, ))\n",
    "    p = Pool(processes=1)\n",
    "    data = p.map(search_twint,config_2)\n",
    "    p.close()\n",
    "    print(\"Done\")\n",
    "    print(data)\n",
    "    #p1 = multiprocessing.Process(target=search_twint, args=(config_2, ))\n",
    "    #p1.start()\n",
    "    #p1.join()\n",
    "    #print(\"Done\")\n",
    "    #print(twint.storage.panda.Tweets_df)"
   ]
  },
  {
   "cell_type": "code",
   "execution_count": null,
   "id": "89b892d8",
   "metadata": {},
   "outputs": [],
   "source": []
  }
 ],
 "metadata": {
  "kernelspec": {
   "display_name": "Python 3 (ipykernel)",
   "language": "python",
   "name": "python3"
  },
  "language_info": {
   "codemirror_mode": {
    "name": "ipython",
    "version": 3
   },
   "file_extension": ".py",
   "mimetype": "text/x-python",
   "name": "python",
   "nbconvert_exporter": "python",
   "pygments_lexer": "ipython3",
   "version": "3.10.0"
  }
 },
 "nbformat": 4,
 "nbformat_minor": 5
}
